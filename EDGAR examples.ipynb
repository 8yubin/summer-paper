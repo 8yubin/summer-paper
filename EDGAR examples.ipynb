{
 "cells": [
  {
   "cell_type": "markdown",
   "metadata": {},
   "source": [
    "### Set working directory"
   ]
  },
  {
   "cell_type": "code",
   "execution_count": 24,
   "metadata": {},
   "outputs": [],
   "source": [
    "import os\n",
    "import re\n",
    "import pandas as pd\n",
    "import glob"
   ]
  },
  {
   "cell_type": "code",
   "execution_count": 25,
   "metadata": {},
   "outputs": [
    {
     "name": "stdout",
     "output_type": "stream",
     "text": [
      "/Users/yubinkim/Dropbox/Summer paper\n",
      "Directory changed\n",
      "/Users/yubinkim/Dropbox/Summer paper/data\n"
     ]
    }
   ],
   "source": [
    "print(os.getcwd())\n",
    "home = '/Users/yubinkim/Dropbox/Summer paper/'\n",
    "try:\n",
    "    os.chdir(home + 'data/')\n",
    "    print(\"Directory changed\")\n",
    "except OSerror:\n",
    "    print(\"Can't change the current working directory\")\n",
    "    \n",
    "\n",
    "print(os.getcwd())"
   ]
  },
  {
   "cell_type": "markdown",
   "metadata": {},
   "source": [
    "### Import data"
   ]
  },
  {
   "cell_type": "code",
   "execution_count": 30,
   "metadata": {},
   "outputs": [],
   "source": [
    "Valero2014 = '1035002_1_0001035002-14-000012.txt'\n",
    "Kellogg2019 = '55067_1_0001628280-19-002643.txt'"
   ]
  },
  {
   "cell_type": "code",
   "execution_count": 32,
   "metadata": {},
   "outputs": [],
   "source": [
    "file = open(Valero2014, \"r\")\n",
    "text = file.read()\n",
    "file.close()\n",
    "# print(text)"
   ]
  },
  {
   "cell_type": "code",
   "execution_count": 33,
   "metadata": {},
   "outputs": [],
   "source": [
    "#Specify the start year of filings to get\n",
    "start_year = 2014\n",
    "#Specify the end year of filings to get \n",
    "end_year = 2019\n",
    "home = '/Users/yubinkim/Dropbox/Summer paper'\n",
    "filings = home+'/data/'"
   ]
  },
  {
   "cell_type": "code",
   "execution_count": 37,
   "metadata": {},
   "outputs": [],
   "source": [
    "def process_header(start_year:int, end_year:int, filings:str, out):\n",
    "    edgar_vars = {\n",
    "        \"file\": re.compile(r'<SEC-DOCUMENT>(.*\\.txt)', re.IGNORECASE),\n",
    "        \"cik\": re.compile(r'^\\s*CENTRAL\\s*INDEX\\s*KEY:\\s*(\\d{10})', re.IGNORECASE),\n",
    "        \"report_date\": re.compile(r'^\\s*CONFORMED\\s*PERIOD\\s*OF\\s*REPORT:\\s*(\\d{8})', re.IGNORECASE),\n",
    "        \"file_date\": re.compile(r'^\\s*FILED\\s*AS\\s*OF\\s*DATE:\\s*(\\d{8})', re.IGNORECASE),\n",
    "        \"name\": re.compile(r'^\\s*COMPANY\\s*CONFORMED\\s*NAME:\\s*(.+$)', re.IGNORECASE),\n",
    "        \"sic\": re.compile(r'^\\s*STANDARD\\s*INDUSTRIAL\\s*CLASSIFICATION:.*?(\\d{4})', re.IGNORECASE),\n",
    "        \"hlink\":re.compile(r'(.*?(([0]*(\\d+))\\-(\\d{2})\\-(\\d{6})))', re.IGNORECASE)\n",
    "    }\n",
    "    \n",
    "    regex_endheader = re.compile(r'</SEC-HEADER>', re.IGNORECASE)\n",
    "    \n",
    "    eframe = pd.DataFrame(columns = edgar_vars.keys())\n",
    "    \n",
    "    for year in range(start_year, end_year+1):\n",
    "        #specify the files you to get from the folder\n",
    "        path = filings + str(year) + '/*.txt'\n",
    "        #read in the names of each of the files contained in the folder\n",
    "        files = glob.glob(path)\n",
    "        #process one file at a time.\n",
    "        for file in files:\n",
    "            #create a dictionary to hold the information we are obtaining (e.g., cik number)\n",
    "            header_vars = {}\n",
    "            #for each of the keys contained in the dictionary, set the initial value to -99.\n",
    "            #This way we are sure that each item is defined in the dictionary even if we cannot\n",
    "            #find the value?\n",
    "            for x in edgar_vars.keys():\n",
    "                header_vars[x] = -99\n",
    "            #open the file we are processing and read it in one line at a time.\n",
    "            f = open(file, 'r')\n",
    "            for line in f:\n",
    "                tems = edgar_vars.items()\n",
    "                #loop through the dictionary and assign\n",
    "                #the key to \"k\" and the value to \"v\"\n",
    "                #For example, the first time through, k=\"file\", and v=\"re.compile('<SEC-DOCUMENT>(.*\\.txt)', re.IGNORECASE)\"\n",
    "                for k, v in tems:\n",
    "                    match = v.search(line)\n",
    "                    #if a match is found for the first time, add it to the dictionary containing the header values.\n",
    "                    #The purpose of the expression, re_key!=\"hlink\" is to not try and match the hlink expression.\n",
    "                    #The hlink expression is used at the end to create a hyperlink to the file on edgar.\n",
    "                    if match and header_vars[k] == -99 and k != \"hlink\":\n",
    "                        header_vars[k] = match.group(1)\n",
    "                #check to see if we are at the end of the header part of the filing.\n",
    "                #exit if we are there\n",
    "                match = regex_endheader.search(line)\n",
    "                if match:\n",
    "                    break\n",
    "            f.close()\n",
    "            #create a link to the file on edgar\n",
    "            if header_vars['file']!=-99:\n",
    "                    #Construct a link to the actual filing\n",
    "                    match = edgar_vars['hlink'].search(header_vars['file'])\n",
    "                    if match:\n",
    "                            header_vars['hlink'] = str('http://www.sec.gov/Archives/edgar/data/')+str(header_vars['cik'].lstrip('0'))+str(\"/\")+str(match.group(3))+str(match.group(5))+str(match.group(6))+str(\"/\")+str(match.group(2))+str(\"-index.htm\")\n",
    "                    eframe.loc[len(eframe)] = header_vars\n",
    "                    \n",
    "    eframe.to_csv(out, sep = \",\", encoding = 'utf-8')\n",
    "    print(f'Header File: {out} created')\n",
    "    return eframe"
   ]
  },
  {
   "cell_type": "code",
   "execution_count": 38,
   "metadata": {},
   "outputs": [
    {
     "name": "stdout",
     "output_type": "stream",
     "text": [
      "Header File: /Users/yubinkim/Dropbox/Summer paper\f",
      "ilingsoutput.csv created\n"
     ]
    },
    {
     "data": {
      "text/html": [
       "<div>\n",
       "<style scoped>\n",
       "    .dataframe tbody tr th:only-of-type {\n",
       "        vertical-align: middle;\n",
       "    }\n",
       "\n",
       "    .dataframe tbody tr th {\n",
       "        vertical-align: top;\n",
       "    }\n",
       "\n",
       "    .dataframe thead th {\n",
       "        text-align: right;\n",
       "    }\n",
       "</style>\n",
       "<table border=\"1\" class=\"dataframe\">\n",
       "  <thead>\n",
       "    <tr style=\"text-align: right;\">\n",
       "      <th></th>\n",
       "      <th>file</th>\n",
       "      <th>cik</th>\n",
       "      <th>report_date</th>\n",
       "      <th>file_date</th>\n",
       "      <th>name</th>\n",
       "      <th>sic</th>\n",
       "      <th>hlink</th>\n",
       "    </tr>\n",
       "  </thead>\n",
       "  <tbody>\n",
       "    <tr>\n",
       "      <th>0</th>\n",
       "      <td>0001035002-14-000012.txt</td>\n",
       "      <td>0001035002</td>\n",
       "      <td>20131231</td>\n",
       "      <td>20140321</td>\n",
       "      <td>VALERO ENERGY CORP/TX</td>\n",
       "      <td>2911</td>\n",
       "      <td>http://www.sec.gov/Archives/edgar/data/1035002...</td>\n",
       "    </tr>\n",
       "    <tr>\n",
       "      <th>1</th>\n",
       "      <td>0001035002-15-000015.txt</td>\n",
       "      <td>0001035002</td>\n",
       "      <td>20141231</td>\n",
       "      <td>20150320</td>\n",
       "      <td>VALERO ENERGY CORP/TX</td>\n",
       "      <td>2911</td>\n",
       "      <td>http://www.sec.gov/Archives/edgar/data/1035002...</td>\n",
       "    </tr>\n",
       "    <tr>\n",
       "      <th>2</th>\n",
       "      <td>0001035002-16-000079.txt</td>\n",
       "      <td>0001035002</td>\n",
       "      <td>20151231</td>\n",
       "      <td>20160331</td>\n",
       "      <td>VALERO ENERGY CORP/TX</td>\n",
       "      <td>2911</td>\n",
       "      <td>http://www.sec.gov/Archives/edgar/data/1035002...</td>\n",
       "    </tr>\n",
       "    <tr>\n",
       "      <th>3</th>\n",
       "      <td>0001035002-17-000015.txt</td>\n",
       "      <td>0001035002</td>\n",
       "      <td>20161231</td>\n",
       "      <td>20170323</td>\n",
       "      <td>VALERO ENERGY CORP/TX</td>\n",
       "      <td>2911</td>\n",
       "      <td>http://www.sec.gov/Archives/edgar/data/1035002...</td>\n",
       "    </tr>\n",
       "    <tr>\n",
       "      <th>4</th>\n",
       "      <td>0001193125-18-090034.txt</td>\n",
       "      <td>0001035002</td>\n",
       "      <td>20180503</td>\n",
       "      <td>20180321</td>\n",
       "      <td>VALERO ENERGY CORP/TX</td>\n",
       "      <td>2911</td>\n",
       "      <td>http://www.sec.gov/Archives/edgar/data/1035002...</td>\n",
       "    </tr>\n",
       "  </tbody>\n",
       "</table>\n",
       "</div>"
      ],
      "text/plain": [
       "                       file         cik report_date file_date  \\\n",
       "0  0001035002-14-000012.txt  0001035002    20131231  20140321   \n",
       "1  0001035002-15-000015.txt  0001035002    20141231  20150320   \n",
       "2  0001035002-16-000079.txt  0001035002    20151231  20160331   \n",
       "3  0001035002-17-000015.txt  0001035002    20161231  20170323   \n",
       "4  0001193125-18-090034.txt  0001035002    20180503  20180321   \n",
       "\n",
       "                    name   sic  \\\n",
       "0  VALERO ENERGY CORP/TX  2911   \n",
       "1  VALERO ENERGY CORP/TX  2911   \n",
       "2  VALERO ENERGY CORP/TX  2911   \n",
       "3  VALERO ENERGY CORP/TX  2911   \n",
       "4  VALERO ENERGY CORP/TX  2911   \n",
       "\n",
       "                                               hlink  \n",
       "0  http://www.sec.gov/Archives/edgar/data/1035002...  \n",
       "1  http://www.sec.gov/Archives/edgar/data/1035002...  \n",
       "2  http://www.sec.gov/Archives/edgar/data/1035002...  \n",
       "3  http://www.sec.gov/Archives/edgar/data/1035002...  \n",
       "4  http://www.sec.gov/Archives/edgar/data/1035002...  "
      ]
     },
     "execution_count": 38,
     "metadata": {},
     "output_type": "execute_result"
    }
   ],
   "source": [
    "outfile = home+ '\\filingsoutput.csv'\n",
    "edgar_dat = process_header(start_year, end_year, filings, outfile)\n",
    "edgar_dat.head()"
   ]
  },
  {
   "cell_type": "code",
   "execution_count": 40,
   "metadata": {},
   "outputs": [
    {
     "name": "stdout",
     "output_type": "stream",
     "text": [
      "0    http://www.sec.gov/Archives/edgar/data/1035002...\n",
      "1    http://www.sec.gov/Archives/edgar/data/1035002...\n",
      "2    http://www.sec.gov/Archives/edgar/data/1035002...\n",
      "3    http://www.sec.gov/Archives/edgar/data/1035002...\n",
      "4    http://www.sec.gov/Archives/edgar/data/1035002...\n",
      "5    http://www.sec.gov/Archives/edgar/data/55067/0...\n",
      "Name: hlink, dtype: object\n"
     ]
    }
   ],
   "source": []
  },
  {
   "cell_type": "code",
   "execution_count": null,
   "metadata": {},
   "outputs": [],
   "source": []
  }
 ],
 "metadata": {
  "kernelspec": {
   "display_name": "Python 3",
   "language": "python",
   "name": "python3"
  },
  "language_info": {
   "codemirror_mode": {
    "name": "ipython",
    "version": 3
   },
   "file_extension": ".py",
   "mimetype": "text/x-python",
   "name": "python",
   "nbconvert_exporter": "python",
   "pygments_lexer": "ipython3",
   "version": "3.7.3"
  }
 },
 "nbformat": 4,
 "nbformat_minor": 2
}
