from bokeh.io import output_notebook, show
from bokeh.plotting import figure
output_notebook()
